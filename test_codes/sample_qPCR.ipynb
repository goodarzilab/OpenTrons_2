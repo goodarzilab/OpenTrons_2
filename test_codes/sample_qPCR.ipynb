{
 "cells": [
  {
   "cell_type": "code",
   "execution_count": 1,
   "metadata": {},
   "outputs": [
    {
     "data": {
      "text/plain": [
       "'\\nTube location file format\\n\\nType,ID,Well\\nprimer,P1,A1\\nprimer,P2,A2\\n...\\nsample,S1,B1\\nsample,S2,B2\\n...\\n\\n'"
      ]
     },
     "execution_count": 1,
     "metadata": {},
     "output_type": "execute_result"
    }
   ],
   "source": [
    "\"\"\"\n",
    "Tube location file format\n",
    "\n",
    "Type,ID,Well\n",
    "primer,P1,A1\n",
    "primer,P2,A2\n",
    "...\n",
    "sample,S1,B1\n",
    "sample,S2,B2\n",
    "...\n",
    "\n",
    "\"\"\"\n"
   ]
  },
  {
   "cell_type": "code",
   "execution_count": 2,
   "metadata": {},
   "outputs": [
    {
     "ename": "AttributeError",
     "evalue": "module 'asyncio' has no attribute 'coroutine'",
     "output_type": "error",
     "traceback": [
      "\u001b[0;31m---------------------------------------------------------------------------\u001b[0m",
      "\u001b[0;31mAttributeError\u001b[0m                            Traceback (most recent call last)",
      "Cell \u001b[0;32mIn[2], line 2\u001b[0m\n\u001b[1;32m      1\u001b[0m \u001b[38;5;28;01mimport\u001b[39;00m \u001b[38;5;21;01mpandas\u001b[39;00m \u001b[38;5;28;01mas\u001b[39;00m \u001b[38;5;21;01mpd\u001b[39;00m\n\u001b[0;32m----> 2\u001b[0m \u001b[38;5;28;01mfrom\u001b[39;00m \u001b[38;5;21;01mopentrons\u001b[39;00m \u001b[38;5;28;01mimport\u001b[39;00m protocol_api\n\u001b[1;32m      4\u001b[0m metadata \u001b[38;5;241m=\u001b[39m {\n\u001b[1;32m      5\u001b[0m     \u001b[38;5;124m'\u001b[39m\u001b[38;5;124mapiLevel\u001b[39m\u001b[38;5;124m'\u001b[39m: \u001b[38;5;124m'\u001b[39m\u001b[38;5;124m2.13\u001b[39m\u001b[38;5;124m'\u001b[39m,\n\u001b[1;32m      6\u001b[0m     \u001b[38;5;124m'\u001b[39m\u001b[38;5;124mprotocolName\u001b[39m\u001b[38;5;124m'\u001b[39m: \u001b[38;5;124m'\u001b[39m\u001b[38;5;124mTransfer Components from Separate Thermoblock Tubes to 384-Well Plate with Pandas\u001b[39m\u001b[38;5;124m'\u001b[39m\n\u001b[1;32m      7\u001b[0m }\n",
      "File \u001b[0;32m~/miniconda3/envs/opentrons/lib/python3.11/site-packages/opentrons/__init__.py:11\u001b[0m\n\u001b[1;32m      8\u001b[0m \u001b[38;5;28;01mfrom\u001b[39;00m \u001b[38;5;21;01mtyping\u001b[39;00m \u001b[38;5;28;01mimport\u001b[39;00m Any, List, Tuple\n\u001b[1;32m     10\u001b[0m \u001b[38;5;28;01mfrom\u001b[39;00m \u001b[38;5;21;01mopentrons\u001b[39;00m\u001b[38;5;21;01m.\u001b[39;00m\u001b[38;5;21;01mdrivers\u001b[39;00m\u001b[38;5;21;01m.\u001b[39;00m\u001b[38;5;21;01mserial_communication\u001b[39;00m \u001b[38;5;28;01mimport\u001b[39;00m get_ports_by_name\n\u001b[0;32m---> 11\u001b[0m \u001b[38;5;28;01mfrom\u001b[39;00m \u001b[38;5;21;01mopentrons\u001b[39;00m\u001b[38;5;21;01m.\u001b[39;00m\u001b[38;5;21;01mhardware_control\u001b[39;00m \u001b[38;5;28;01mimport\u001b[39;00m (\n\u001b[1;32m     12\u001b[0m     API \u001b[38;5;28;01mas\u001b[39;00m HardwareAPI,\n\u001b[1;32m     13\u001b[0m     ThreadManager,\n\u001b[1;32m     14\u001b[0m     ThreadManagedHardware,\n\u001b[1;32m     15\u001b[0m )\n\u001b[1;32m     17\u001b[0m \u001b[38;5;28;01mfrom\u001b[39;00m \u001b[38;5;21;01mopentrons\u001b[39;00m\u001b[38;5;21;01m.\u001b[39;00m\u001b[38;5;21;01mconfig\u001b[39;00m \u001b[38;5;28;01mimport\u001b[39;00m (\n\u001b[1;32m     18\u001b[0m     feature_flags \u001b[38;5;28;01mas\u001b[39;00m ff,\n\u001b[1;32m     19\u001b[0m     name,\n\u001b[0;32m   (...)\u001b[0m\n\u001b[1;32m     22\u001b[0m     ROBOT_FIRMWARE_DIR,\n\u001b[1;32m     23\u001b[0m )\n\u001b[1;32m     24\u001b[0m \u001b[38;5;28;01mfrom\u001b[39;00m \u001b[38;5;21;01mopentrons\u001b[39;00m\u001b[38;5;21;01m.\u001b[39;00m\u001b[38;5;21;01mutil\u001b[39;00m \u001b[38;5;28;01mimport\u001b[39;00m logging_config\n",
      "File \u001b[0;32m~/miniconda3/envs/opentrons/lib/python3.11/site-packages/opentrons/hardware_control/__init__.py:14\u001b[0m\n\u001b[1;32m      1\u001b[0m \u001b[38;5;124;03m\"\"\"\u001b[39;00m\n\u001b[1;32m      2\u001b[0m \u001b[38;5;124;03mhardware_control: The sole authority for controlling the hardware of an OT2.\u001b[39;00m\n\u001b[1;32m      3\u001b[0m \n\u001b[0;32m   (...)\u001b[0m\n\u001b[1;32m     10\u001b[0m \u001b[38;5;124;03mfunctions are available elsewhere.\u001b[39;00m\n\u001b[1;32m     11\u001b[0m \u001b[38;5;124;03m\"\"\"\u001b[39;00m\n\u001b[1;32m     13\u001b[0m \u001b[38;5;28;01mfrom\u001b[39;00m \u001b[38;5;21;01m.\u001b[39;00m\u001b[38;5;21;01madapters\u001b[39;00m \u001b[38;5;28;01mimport\u001b[39;00m SynchronousAdapter\n\u001b[0;32m---> 14\u001b[0m \u001b[38;5;28;01mfrom\u001b[39;00m \u001b[38;5;21;01m.\u001b[39;00m\u001b[38;5;21;01mapi\u001b[39;00m \u001b[38;5;28;01mimport\u001b[39;00m API\n\u001b[1;32m     15\u001b[0m \u001b[38;5;28;01mfrom\u001b[39;00m \u001b[38;5;21;01m.\u001b[39;00m\u001b[38;5;21;01mpause_manager\u001b[39;00m \u001b[38;5;28;01mimport\u001b[39;00m PauseManager\n\u001b[1;32m     16\u001b[0m \u001b[38;5;28;01mfrom\u001b[39;00m \u001b[38;5;21;01m.\u001b[39;00m\u001b[38;5;21;01mbackends\u001b[39;00m \u001b[38;5;28;01mimport\u001b[39;00m Controller, Simulator\n",
      "File \u001b[0;32m~/miniconda3/envs/opentrons/lib/python3.11/site-packages/opentrons/hardware_control/api.py:33\u001b[0m\n\u001b[1;32m     28\u001b[0m \u001b[38;5;28;01mfrom\u001b[39;00m \u001b[38;5;21;01m.\u001b[39;00m\u001b[38;5;21;01mutil\u001b[39;00m \u001b[38;5;28;01mimport\u001b[39;00m use_or_initialize_loop, check_motion_bounds\n\u001b[1;32m     29\u001b[0m \u001b[38;5;28;01mfrom\u001b[39;00m \u001b[38;5;21;01m.\u001b[39;00m\u001b[38;5;21;01minstruments\u001b[39;00m\u001b[38;5;21;01m.\u001b[39;00m\u001b[38;5;21;01mpipette\u001b[39;00m \u001b[38;5;28;01mimport\u001b[39;00m (\n\u001b[1;32m     30\u001b[0m     generate_hardware_configs,\n\u001b[1;32m     31\u001b[0m     load_from_config_and_check_skip,\n\u001b[1;32m     32\u001b[0m )\n\u001b[0;32m---> 33\u001b[0m \u001b[38;5;28;01mfrom\u001b[39;00m \u001b[38;5;21;01m.\u001b[39;00m\u001b[38;5;21;01mbackends\u001b[39;00m \u001b[38;5;28;01mimport\u001b[39;00m Controller, Simulator\n\u001b[1;32m     34\u001b[0m \u001b[38;5;28;01mfrom\u001b[39;00m \u001b[38;5;21;01m.\u001b[39;00m\u001b[38;5;21;01mexecution_manager\u001b[39;00m \u001b[38;5;28;01mimport\u001b[39;00m ExecutionManagerProvider\n\u001b[1;32m     35\u001b[0m \u001b[38;5;28;01mfrom\u001b[39;00m \u001b[38;5;21;01m.\u001b[39;00m\u001b[38;5;21;01mpause_manager\u001b[39;00m \u001b[38;5;28;01mimport\u001b[39;00m PauseManager\n",
      "File \u001b[0;32m~/miniconda3/envs/opentrons/lib/python3.11/site-packages/opentrons/hardware_control/backends/__init__.py:1\u001b[0m\n\u001b[0;32m----> 1\u001b[0m \u001b[38;5;28;01mfrom\u001b[39;00m \u001b[38;5;21;01m.\u001b[39;00m\u001b[38;5;21;01mcontroller\u001b[39;00m \u001b[38;5;28;01mimport\u001b[39;00m Controller\n\u001b[1;32m      2\u001b[0m \u001b[38;5;28;01mfrom\u001b[39;00m \u001b[38;5;21;01m.\u001b[39;00m\u001b[38;5;21;01msimulator\u001b[39;00m \u001b[38;5;28;01mimport\u001b[39;00m Simulator\n\u001b[1;32m      4\u001b[0m \u001b[38;5;66;03m# only expose the ot2 interfaces in __init__ so everything works if opentrons_hardware\u001b[39;00m\n\u001b[1;32m      5\u001b[0m \u001b[38;5;66;03m# is not present\u001b[39;00m\n",
      "File \u001b[0;32m~/miniconda3/envs/opentrons/lib/python3.11/site-packages/opentrons/hardware_control/backends/controller.py:20\u001b[0m\n\u001b[1;32m     17\u001b[0m \u001b[38;5;28;01mfrom\u001b[39;00m \u001b[38;5;21;01mtyping_extensions\u001b[39;00m \u001b[38;5;28;01mimport\u001b[39;00m Final\n\u001b[1;32m     19\u001b[0m \u001b[38;5;28;01mtry\u001b[39;00m:\n\u001b[0;32m---> 20\u001b[0m     \u001b[38;5;28;01mimport\u001b[39;00m \u001b[38;5;21;01maionotify\u001b[39;00m  \u001b[38;5;66;03m# type: ignore[import]\u001b[39;00m\n\u001b[1;32m     21\u001b[0m \u001b[38;5;28;01mexcept\u001b[39;00m (\u001b[38;5;167;01mOSError\u001b[39;00m, \u001b[38;5;167;01mModuleNotFoundError\u001b[39;00m):\n\u001b[1;32m     22\u001b[0m     aionotify \u001b[38;5;241m=\u001b[39m \u001b[38;5;28;01mNone\u001b[39;00m\n",
      "File \u001b[0;32m~/miniconda3/envs/opentrons/lib/python3.11/site-packages/aionotify/__init__.py:5\u001b[0m\n\u001b[1;32m      1\u001b[0m \u001b[38;5;66;03m# Copyright (c) 2016 The aionotify project\u001b[39;00m\n\u001b[1;32m      2\u001b[0m \u001b[38;5;66;03m# This code is distributed under the two-clause BSD License.\u001b[39;00m\n\u001b[1;32m      4\u001b[0m \u001b[38;5;28;01mfrom\u001b[39;00m \u001b[38;5;21;01m.\u001b[39;00m\u001b[38;5;21;01menums\u001b[39;00m \u001b[38;5;28;01mimport\u001b[39;00m Flags\n\u001b[0;32m----> 5\u001b[0m \u001b[38;5;28;01mfrom\u001b[39;00m \u001b[38;5;21;01m.\u001b[39;00m\u001b[38;5;21;01mbase\u001b[39;00m \u001b[38;5;28;01mimport\u001b[39;00m Watcher\n\u001b[1;32m      7\u001b[0m __all__ \u001b[38;5;241m=\u001b[39m [\u001b[38;5;124m'\u001b[39m\u001b[38;5;124mFlags\u001b[39m\u001b[38;5;124m'\u001b[39m, \u001b[38;5;124m'\u001b[39m\u001b[38;5;124mWatcher\u001b[39m\u001b[38;5;124m'\u001b[39m]\n\u001b[1;32m      9\u001b[0m __version__ \u001b[38;5;241m=\u001b[39m \u001b[38;5;124m'\u001b[39m\u001b[38;5;124m0.2.0\u001b[39m\u001b[38;5;124m'\u001b[39m\n",
      "File \u001b[0;32m~/miniconda3/envs/opentrons/lib/python3.11/site-packages/aionotify/base.py:10\u001b[0m\n\u001b[1;32m      7\u001b[0m \u001b[38;5;28;01mimport\u001b[39;00m \u001b[38;5;21;01mctypes\u001b[39;00m\n\u001b[1;32m      8\u001b[0m \u001b[38;5;28;01mimport\u001b[39;00m \u001b[38;5;21;01mstruct\u001b[39;00m\n\u001b[0;32m---> 10\u001b[0m \u001b[38;5;28;01mfrom\u001b[39;00m \u001b[38;5;21;01m.\u001b[39;00m \u001b[38;5;28;01mimport\u001b[39;00m aioutils\n\u001b[1;32m     12\u001b[0m Event \u001b[38;5;241m=\u001b[39m collections\u001b[38;5;241m.\u001b[39mnamedtuple(\u001b[38;5;124m'\u001b[39m\u001b[38;5;124mEvent\u001b[39m\u001b[38;5;124m'\u001b[39m, [\u001b[38;5;124m'\u001b[39m\u001b[38;5;124mflags\u001b[39m\u001b[38;5;124m'\u001b[39m, \u001b[38;5;124m'\u001b[39m\u001b[38;5;124mcookie\u001b[39m\u001b[38;5;124m'\u001b[39m, \u001b[38;5;124m'\u001b[39m\u001b[38;5;124mname\u001b[39m\u001b[38;5;124m'\u001b[39m, \u001b[38;5;124m'\u001b[39m\u001b[38;5;124malias\u001b[39m\u001b[38;5;124m'\u001b[39m])\n\u001b[1;32m     15\u001b[0m _libc \u001b[38;5;241m=\u001b[39m ctypes\u001b[38;5;241m.\u001b[39mcdll\u001b[38;5;241m.\u001b[39mLoadLibrary(\u001b[38;5;124m'\u001b[39m\u001b[38;5;124mlibc.so.6\u001b[39m\u001b[38;5;124m'\u001b[39m)\n",
      "File \u001b[0;32m~/miniconda3/envs/opentrons/lib/python3.11/site-packages/aionotify/aioutils.py:122\u001b[0m\n\u001b[1;32m    114\u001b[0m         parts \u001b[38;5;241m=\u001b[39m [\n\u001b[1;32m    115\u001b[0m             \u001b[38;5;28mself\u001b[39m\u001b[38;5;241m.\u001b[39m\u001b[38;5;18m__class__\u001b[39m\u001b[38;5;241m.\u001b[39m\u001b[38;5;18m__name__\u001b[39m,\n\u001b[1;32m    116\u001b[0m             status,\n\u001b[1;32m    117\u001b[0m             \u001b[38;5;124m'\u001b[39m\u001b[38;5;124mfd=\u001b[39m\u001b[38;5;132;01m%s\u001b[39;00m\u001b[38;5;124m'\u001b[39m \u001b[38;5;241m%\u001b[39m \u001b[38;5;28mself\u001b[39m\u001b[38;5;241m.\u001b[39m_fileno,\n\u001b[1;32m    118\u001b[0m         ]\n\u001b[1;32m    119\u001b[0m         \u001b[38;5;28;01mreturn\u001b[39;00m \u001b[38;5;124m'\u001b[39m\u001b[38;5;124m<\u001b[39m\u001b[38;5;132;01m%s\u001b[39;00m\u001b[38;5;124m>\u001b[39m\u001b[38;5;124m'\u001b[39m \u001b[38;5;241m%\u001b[39m \u001b[38;5;124m'\u001b[39m\u001b[38;5;124m \u001b[39m\u001b[38;5;124m'\u001b[39m\u001b[38;5;241m.\u001b[39mjoin(parts)\n\u001b[0;32m--> 122\u001b[0m \u001b[38;5;129m@asyncio\u001b[39m\u001b[38;5;241m.\u001b[39mcoroutine\n\u001b[1;32m    123\u001b[0m \u001b[38;5;28;01mdef\u001b[39;00m \u001b[38;5;21mstream_from_fd\u001b[39m(fd, loop):\n\u001b[1;32m    124\u001b[0m     \u001b[38;5;124;03m\"\"\"Recieve a streamer for a given file descriptor.\"\"\"\u001b[39;00m\n\u001b[1;32m    125\u001b[0m     reader \u001b[38;5;241m=\u001b[39m asyncio\u001b[38;5;241m.\u001b[39mStreamReader(loop\u001b[38;5;241m=\u001b[39mloop)\n",
      "\u001b[0;31mAttributeError\u001b[0m: module 'asyncio' has no attribute 'coroutine'"
     ]
    }
   ],
   "source": [
    "import pandas as pd\n",
    "from opentrons import protocol_api\n",
    "\n",
    "metadata = {\n",
    "    'apiLevel': '2.13',\n",
    "    'protocolName': 'Transfer Components from Separate Thermoblock Tubes to 384-Well Plate with Pandas'\n",
    "}"
   ]
  },
  {
   "cell_type": "code",
   "execution_count": null,
   "metadata": {},
   "outputs": [],
   "source": [
    "def map_tube_to_well(dataframe, thermoblock, primer_tube_positions, sample_tube_positions, p20_single):\n",
    "    for index, row in dataframe.iterrows():\n",
    "        for col, (primer, sample) in enumerate(row):\n",
    "            primer_source_well = primer_tube_positions.loc[primer, 'Well']\n",
    "            sample_source_well = sample_tube_positions.loc[sample, 'Well']\n",
    "            dest_well = p384.wells()[index * len(dataframe.columns) + col]\n",
    "\n",
    "            # Transfer primer and sample to the destination well\n",
    "            p20_single.transfer(2.5, primer_source_well, dest_well)\n",
    "            p20_single.transfer(2.5, sample_source_well, dest_well)"
   ]
  },
  {
   "cell_type": "code",
   "execution_count": null,
   "metadata": {},
   "outputs": [],
   "source": [
    "def run(protocol: protocol_api.ProtocolContext):\n",
    "    # Labware\n",
    "    primer_tubes = protocol.load_labware('opentrons_24_tuberack_generic_2ml_screwcap', '1')\n",
    "    sample_tubes = protocol.load_labware('opentrons_24_tuberack_generic_2ml_screwcap', '2')\n",
    "    p384 = protocol.load_labware('corning_384_wellplate_112ul_flat', '3')\n",
    "    tiprack_20ul_1 = protocol.load_labware('opentrons_96_tiprack_20ul', '4')\n",
    "    tiprack_20ul_2 = protocol.load_labware('opentrons_96_tiprack_20ul', '5')\n",
    "    tiprack_20ul_3 = protocol.load_labware('opentrons_96_tiprack_20ul', '6')\n",
    "\n",
    "    # Set temp to 4C\n",
    "    temp_mod.set_temperature(celsius=4)\n",
    "    temp_mod.status  # 'holding at target'\n",
    "\n",
    "    temp_labware = temp_mod.load_labware(\n",
    "        \"opentrons_24_tuberack_eppendorf_1.5ml_safelock_snapcap\",\n",
    "        label=\"Temperature-Controlled Tubes of H20\",\n",
    "    )\n",
    "\n",
    "    # Pipettes\n",
    "    p20_single = protocol.load_instrument('p20_single_gen2', 'right', tip_racks=[tiprack_20ul_1, tiprack_20ul_2, tiprack_20ul_3])\n",
    "\n",
    "    # Read CSV files\n",
    "    transfer_data = pd.read_csv('transfer_data.csv')  # Replace with the actual file name\n",
    "    tube_positions = pd.read_csv('tube_positions.csv')  # Replace with the actual file name\n",
    "    primer_tube_positions = tube_positions[tube_positions['Type'] == 'primer']\n",
    "    sample_tube_positions = tube_positions[tube_positions['Type'] == 'sample']\n",
    "\n",
    "    # Set index for primer and sample tube positions\n",
    "    primer_tube_positions.set_index('ID', inplace=True)\n",
    "    sample_tube_positions.set_index('ID', inplace=True)\n",
    "\n",
    "    # Transfer components\n",
    "    map_tube_to_well(transfer_data, p384, primer_tube_positions, sample_tube_positions, p20_single)"
   ]
  }
 ],
 "metadata": {
  "kernelspec": {
   "display_name": "Opentrons",
   "language": "python",
   "name": "opentrons"
  },
  "language_info": {
   "codemirror_mode": {
    "name": "ipython",
    "version": 3
   },
   "file_extension": ".py",
   "mimetype": "text/x-python",
   "name": "python",
   "nbconvert_exporter": "python",
   "pygments_lexer": "ipython3",
   "version": "3.11.2"
  }
 },
 "nbformat": 4,
 "nbformat_minor": 4
}
